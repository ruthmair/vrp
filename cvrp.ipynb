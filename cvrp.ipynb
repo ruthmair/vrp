{
 "cells": [
  {
   "attachments": {},
   "cell_type": "markdown",
   "metadata": {
    "slideshow": {
     "slide_type": "-"
    }
   },
   "source": [
    "# Capacitated Vehicle Routing Problem\n",
    "\n",
    "The capacitated vehicle routing problem (CVRP) is a combinatorial optimization problem in the area of logistics that aims to find a cheapest set of routes for a given fleet of vehicles such that all customers are served and the vehicle capacity is never exceeded.\n",
    "\n",
    "The problem is formally defined as follows.\n",
    "We are given\n",
    "* a depot 0 where all vehicles are located in the beginning,\n",
    "* a set of customers $C = \\{1,\\ldots,N\\}$ (we define locations $L = \\{0\\} \\cup C$),\n",
    "* a demand $d_i \\ge 0$ for each customer $i \\in C$ (the depot has no demand, i.e., $d_0 = 0$),\n",
    "* costs $c_{ij} \\ge 0$ for traveling from customer or depot $i$ to customer or depot $j$,\n",
    "* and a homogeneous fleet $K=\\{1,\\ldots,|K|\\}$ of vehicles with load capacity $Q > 0$ which is the same for all vehicles.\n",
    "\n",
    "We want to find\n",
    "* an ordered visiting sequence of customers for each vehicle\n",
    "* with minimal total routing costs,\n",
    "such that\n",
    "* each customer is visited exactly once,\n",
    "* and the vehicle capacity is never exceeded.\n",
    "\n",
    "This notebook demonstrates several ways to model the CVRP as mixed-integer linear program (MILP), without use of sophisticated column generation or cutting plane methods as needed in state-of-the-art approaches. Therefore, the presented models have limited performance compared to the state-of-the-art, independent of the used solver. Still, the formulations presented here can be a starting point to evaluate the performance for your problem instances."
   ]
  },
  {
   "cell_type": "markdown",
   "metadata": {
    "slideshow": {
     "slide_type": "-"
    }
   },
   "source": [
    "## Instance Configuration\n",
    "\n",
    "The first part is dedicated to setting up the instance data. For demonstration purposes, we generate artificial data in the following way:\n",
    "* We predefine the number of customers, the number of available vehicles, their load capacity, and a range for the customer demands.\n",
    "* We place the depot and customers randomly in a 1000x1000 grid. This allows us to compute Euclidian distances which lead to reasonable relations between different connections. These distances are interpreted as traveling costs.\n",
    "* Customer demands are randomly generated in the predefined range."
   ]
  },
  {
   "cell_type": "code",
   "execution_count": null,
   "metadata": {
    "slideshow": {
     "slide_type": "-"
    }
   },
   "outputs": [],
   "source": [
    "import math\n",
    "import random\n",
    "\n",
    "### INSTANCE CONFIGURATION\n",
    "# Example1:  30,  5, 30, 2, 5\n",
    "# Example2: 100, 60,  3, 1, 2\n",
    "numCustomers = 30\n",
    "maxNumVehicles = 5\n",
    "vehicleCapacity = 30\n",
    "demandMin = 2\n",
    "demandMax = 5"
   ]
  },
  {
   "cell_type": "markdown",
   "metadata": {
    "slideshow": {
     "slide_type": "-"
    }
   },
   "source": [
    "## Instance Generation"
   ]
  },
  {
   "cell_type": "code",
   "execution_count": null,
   "metadata": {
    "slideshow": {
     "slide_type": "-"
    }
   },
   "outputs": [],
   "source": [
    "random.seed(0)\n",
    "\n",
    "depot = 0\n",
    "customers = [*range(1, numCustomers + 1)]\n",
    "locations = [depot] + customers\n",
    "connections = [(i, j) for i in locations for j in locations if i != j]\n",
    "vehicles = [*range(1, maxNumVehicles + 1)]\n",
    "\n",
    "# create random depot and customer locations in the Euclidian plane (1000x1000)\n",
    "points = [(random.randint(0, 999), random.randint(0, 999)) for i in locations]\n",
    "# dictionary of Euclidean distance between each pair of points (interpreted as travel costs)\n",
    "costs = {\n",
    "    (i, j): math.ceil(\n",
    "        math.sqrt(sum((points[i][k] - points[j][k]) ** 2 for k in range(2)))\n",
    "    )\n",
    "    for i in locations\n",
    "    for j in locations\n",
    "    if i != j\n",
    "}\n",
    "\n",
    "# create random demands in range [demandMin,demandMax]\n",
    "demands = {i: random.randint(demandMin, demandMax) for i in locations}\n",
    "demands[0] = 0  # depot has no demand"
   ]
  },
  {
   "cell_type": "markdown",
   "metadata": {
    "slideshow": {
     "slide_type": "-"
    }
   },
   "source": [
    "## Basic Route Model\n",
    "\n",
    "First, we state a basic route model that uses binary variables $x_{ij}$ for each potential directed connection from location (depot or customer) $i$ to location $j$:\n",
    "* The objective is to minimize the sum of costs of all used connections. \n",
    "* Each customer is visited exactly once, i.e., there is exactly one incoming connection and exactly one nextCustomer connection.\n",
    "* At most $|K|$ vehicles can be used.\n",
    "* We can also compute a lower bound on the number of needed vehicles, that is the sum of all demands divided by the vehicle capacity. This constraint is not necessary but sometimes helps to improve performance. Basically, this is the capacity cut for set $S = C$, see below.\n",
    "\n",
    "\\begin{align*}\n",
    "\\min \\sum_{i,j \\in L} c_{ij} x_{ij} & & \\\\\n",
    "\\sum_{i \\in L} x_{ij} & = 1 & \\forall j \\in C \\\\\n",
    "\\sum_{j \\in L} x_{ij} & = 1 & \\forall i \\in C \\\\\n",
    "\\sum_{j \\in C} x_{0j} & \\le |K| \\\\\n",
    "\\sum_{j \\in C} x_{0j} & \\ge \\left\\lceil \\frac{\\sum_{i \\in C} d_i}{Q} \\right\\rceil\n",
    "\\end{align*}\n",
    "\n",
    "### Optional: Vehicle-indexed Basic Route Model\n",
    "\n",
    "Note that we did not use variables that assign connections or customers to particular vehicles. We have a homogeneous fleet in which all vehicles have exactly the same characteristics, so it does not matter which vehicle is assigned to which route. Using vehicle-specific variables could potentially simplify the solution retrieval afterwards, but would add many additional variables and constraints. Furthermore, solution symmetry would be introduced since each set of routes could be assigned to any permutation of vehicles, leading exactly to the same objective value but to different model solutions. This could significantly deteriorate solution performance.\n",
    "\n",
    "For demonstration purposes, we provide the option to use vehicle-indexed binary route variables $v^k_{ij}$ for each vehicle $k \\in K$, and each connection $(i,j)$ and the following basic route model:\n",
    "\n",
    "\\begin{align*}\n",
    "\\min \\sum_{k \\in K} \\sum_{i,j \\in L} c_{ij} v^k_{ij} & & \\\\\n",
    "\\sum_{k \\in K} \\sum_{i \\in L} v^k_{ij} & = 1 & \\forall j \\in C \\\\\n",
    "\\sum_{k \\in K} \\sum_{j \\in L} v^k_{ij} & = 1 & \\forall i \\in C \\\\\n",
    "\\sum_{k \\in K} \\sum_{j \\in C} v^k_{0j} & \\ge \\left\\lceil \\frac{\\sum_{i \\in C} d_i}{Q} \\right\\rceil \\\\\n",
    "\\sum_{i \\in L} v^k_{ij} & = \\sum_{i \\in L} v^k_{ji} & \\forall j \\in C,~ k \\in K\n",
    "\\end{align*}\n",
    "\n",
    "Note that the relation between $x$ and $v$ variables can be stated by:\n",
    "$$\\sum_{k \\in K} v^k_{ij} = x_{ij},~ \\forall i,j \\in L,~ i \\neq j$$\n",
    "Therefore, all constraints except for the last set of flow conservation constraints are already implied by the basic route model defined only on the $x$ variables."
   ]
  },
  {
   "cell_type": "code",
   "execution_count": null,
   "metadata": {
    "slideshow": {
     "slide_type": "-"
    }
   },
   "outputs": [],
   "source": [
    "### MODEL CONFIGURATION\n",
    "vehicleIndexedRoutes = 0  # 0: no vehicle index, 1: vehicle-indexed route variables"
   ]
  },
  {
   "cell_type": "markdown",
   "metadata": {},
   "source": [
    "## Basic Route Model Implementation"
   ]
  },
  {
   "cell_type": "code",
   "execution_count": null,
   "metadata": {},
   "outputs": [],
   "source": [
    "import gurobipy as gp\n",
    "from gurobipy import GRB\n",
    "\n",
    "def numVehiclesNeededForCustomers(customers):\n",
    "    sumDemand = 0\n",
    "    for i in customers:\n",
    "        sumDemand += demands[i]\n",
    "    return math.ceil(sumDemand / vehicleCapacity)\n",
    "\n",
    "# create model for Capacitated Vehicle Routing Problem instance\n",
    "model = gp.Model(\"CVRP\")\n",
    "\n",
    "# binary variables x(i,j): is 1 if some vehicle is going from node i to node j, 0 otherwise\n",
    "x = model.addVars(connections, vtype=GRB.BINARY, name=\"x\")\n",
    "\n",
    "# objective function: minimize sum of connection costs\n",
    "model.setObjective(x.prod(costs), GRB.MINIMIZE)\n",
    "\n",
    "# all customers have exactly one incoming and one outgoing connection\n",
    "model.addConstrs((x.sum(\"*\", j) == 1 for j in customers), name=\"incoming\")\n",
    "model.addConstrs((x.sum(i, \"*\") == 1 for i in customers), name=\"outgoing\")\n",
    "\n",
    "# vehicle limits\n",
    "model.addConstr(x.sum(0, \"*\") <= maxNumVehicles, name=\"maxNumVehicles\")\n",
    "model.addConstr(\n",
    "    x.sum(0, \"*\") >= numVehiclesNeededForCustomers(customers),\n",
    "    name=\"minNumVehicles\",\n",
    ")\n",
    "\n",
    "if vehicleIndexedRoutes == 1:\n",
    "    # binary variables v(i,j,k): is 1 if vehicle k is going from node i to node j, 0 otherwise\n",
    "    v = model.addVars(connections, vehicles, vtype=GRB.BINARY, name=\"v\")\n",
    "\n",
    "    # relation to vehicle-independent route variables\n",
    "    model.addConstrs((v.sum(i, j, \"*\") == x[i,j] for (i,j) in connections), name=\"linking\")\n",
    "\n",
    "     # all customers have exactly one incoming and flow conservation has to hold for each vehicle\n",
    "    model.addConstrs((v.sum(\"*\", j, k) == v.sum(j, \"*\", k) for j in customers for k in vehicles), name=\"flowConservation\")"
   ]
  },
  {
   "cell_type": "markdown",
   "metadata": {
    "slideshow": {
     "slide_type": "-"
    }
   },
   "source": [
    "## Load Models\n",
    "\n",
    "Up to now we still have two issues in our model:\n",
    "1. The vehicle capacity is ignored, so solutions might include routes with total customer demand that exceed the capacity.\n",
    "2. Less obvious is the fact that in the base route model solutions might have sub-tours, i.e., routes that are disconnected from the depot and include only customers.\n",
    "\n",
    "We will see that the following modeling approaches solve both issues at once.\n",
    "\n",
    "### Capacity Cut Model\n",
    "\n",
    "The first approach only uses the binary connection variables we already have. We state the fact that for each subset of customers there is a minimum amount of vehicles required to serve them:\n",
    "\n",
    "\\begin{align*}\n",
    "\\sum_{i \\notin S, j \\in S} x_{ij} & \\ge \\left\\lceil \\frac{\\sum_{c \\in S} d_c}{Q} \\right\\rceil & \\forall S \\subseteq C\n",
    "\\end{align*}\n",
    "\n",
    "These inequalities are called (rounded) capacity cuts and state that there has to be a minimum amount of connections going into each customer subset $S$. It can be shown that this is enough to ensure that the vehicle capacity is satisfied in all solutions that are feasible for these capacity cuts (together with the base route model). \n",
    "\n",
    "Additionally, the capacity cuts eliminate all sub-tours allowed in the base model. To see this, we define $S$ to be the set of customers that form a sub-tour, i.e., are not connected to the depot. Then, we can easily see that the corresponding capacity cut is violated since no connection is going into set $S$ from outside.\n",
    "\n",
    "The downside of the capacity cuts is that they are exponentially many so it is practically impossible to state all of them for a reasonable amount of customers. Usually, they are added dynamically in a cutting plane approach (with lazy-constraint and user-cut callbacks) but this involves according sophisticated callback methods to detect violated capacity cuts.\n",
    "\n",
    "Nevertheless, we (optionally) add some of the capacity cuts to the model, i.e., those that correspond to customer sets $S$ with cardinality 2 or 3. They are not required for validity of the model when one of the following load model approaches are present but they usually help to improve dual bounds.\n",
    "Below we use an equivalent form of the capacity cuts above that is much sparser for small customer sets and can be derived by exploiting the constraints from the base model.\n",
    "\n",
    "\\begin{align*}\n",
    "\\sum_{i,j \\in S} x_{ij} & \\le |S| - \\left\\lceil \\frac{\\sum_{c \\in S} d_c}{Q} \\right\\rceil & \\forall S \\subseteq C\n",
    "\\end{align*}\n",
    "\n",
    "### Big-M Model\n",
    "\n",
    "The following modeling approach is used very frequently since it is quite intuitive and also used in many other optimization models. The main idea is to associate a continuous variable $y_i \\in [0,Q]$ to each customer $i \\in C$ that represents the load of the vehicle after picking up the customer's demand. Note that it does not matter whether we pick up demands or deliver them, as long as we stay consistent for all customers the set of feasible solutions stays the same.\n",
    "\n",
    "The following constraints model the fact that if connection $(i,j)$ is used then the vehicle load at $j$ is equal to the vehicle load at $i$ plus the demand at $j$. This if-then statement can be implemented with indicator constraints or directly with a Big-M approach:\n",
    "\\begin{align*}\n",
    "y_0 & = 0 & \\\\\n",
    "y_i + d_j & \\le y_j + Q (1 - x_{ij}) & \\forall i \\in L,~ j \\in C,~ i \\neq j \\\\\n",
    "y_i + d_j & \\ge y_j - (Q - d_i - d_j) (1 - x_{ij}) & \\forall i \\in L,~ j \\in C,~ i \\neq j \n",
    "\\end{align*}\n",
    "Since we limit the load variables by the vehicle capacity, the latter cannot be exceeded.\n",
    "Additionally, sub-tours are eliminated since the load has to monotonically increase along a route. In case of a sub-tour this would result in a conflict of the load values at some point. Contrary to this, in feasible routes the increase of load values is not required when coming back to the depot (note that the constraints above are not defined for $j = 0$).\n",
    "\n",
    "Although this approach only increases the model size slightly, the corresponding dual bounds obtained by solving the continuous relaxation are often weak. This can lead to large branch-and-bound trees and poor solution performance.\n",
    "\n",
    "### Flow Model\n",
    "\n",
    "Now, we extend the meaning of the variables used in the Big-M model. We introduce continuous variables $z_{ij} \\in [0,Q]$ for each connection $(i,j)$ to denote the vehicle load after picking up the demand at $i$ and proceeding to location $j$. We can also express the new variables with the previous ones in a non-linear way, i.e., $z_{ij} = y_i \\cdot x_{ij}$. In a different interpretation, these variables model the flow of goods on connection $(i,j)$ which suggests to use flow conservation constraints:\n",
    "\\begin{align*}\n",
    "z_{0j} & = 0 & \\forall j \\in C \\\\\n",
    "\\sum_{i \\in L} z_{ij} + d_j & = \\sum_{i \\in L} z_{ji} & \\forall j \\in C \\\\\n",
    "z_{ij} & \\ge d_i x_{ij} & \\forall i \\in C,~ j \\in L,~ i \\neq j \\\\\n",
    "z_{ij} & \\le (Q - d_j) x_{ij} & \\forall i \\in C,~ j \\in L,~ i \\neq j \n",
    "\\end{align*}\n",
    "As the last two sets of constraints state, there can only be non-zero flow on connections that are chosen in the solution.\n",
    "The vehicle capacity is satisfied by definition, and with a similar argument as for the Big-M model sub-tours cannot appear in solutions since the flow conservation constraints (that are not defined for $j = 0$) do not allow a route including only customers.\n",
    "\n",
    "Although there are more variables in this model, in most cases it pays off since it provides dual bounds at least as good as the ones of the Big-M model, and mostly better.\n",
    "\n",
    "### Multi-Commodity Flow Model\n",
    "\n",
    "We can even go one step further and disaggregate the flows by customer. We introduce variables $f^c_{ij} \\in [0,1]$ for each customer $c$ and connection $(i,j)$ to denote the fraction of customer $c$'s demand that has been picked up at customer $c$ and transported on connection $(i,j)$ back to the depot.\n",
    "The resulting flow system can be stated as follows:\n",
    "\\begin{align*}\n",
    "f^c_{0j} & = 0 & \\forall c,j \\in C \\\\\n",
    "\\sum_{i \\in L} f^j_{ji} & = 1 & \\forall j \\in C \\\\\n",
    "\\sum_{i \\in L} f^j_{i0} & = 1 & \\forall j \\in C \\\\\n",
    "\\sum_{i \\in L} f^c_{ij} & = \\sum_{i \\in L} f^c_{ji} & \\forall c,j \\in C,~ c \\neq j \\\\\n",
    "f^c_{ij} & \\le x_{ij} & \\forall c \\in C,~ i,j \\in L,~ i \\neq j \\\\\n",
    "\\sum_{c \\in C} d_c f^c_{ij} & \\le Q x_{ij} & \\forall i,j \\in L,~ i \\neq j\n",
    "\\end{align*}\n",
    "It can be shown that the resulting LP bound is at least as good as the one from the previous flow model, often much better. The larger number of variables and constraints, however, usually leads to worse performance in practice.\n",
    "\n",
    "### Discretized Model\n",
    "\n",
    "If the set of achievable vehicle load values is rather small then it makes sense to consider the modeling concept of discretization. For simplicity, we assume that the vehicle capacity and all demands are integer values, and therefore the load of the vehicle can only be in the set $D=\\{0,1,...,Q\\}$. Continuous values could be scaled appropriately but note that set $D$ should not get too large.\n",
    "\n",
    "Next, we introduce binary variables $w_{ijd}$ to state whether connection $(i,j)$ is used with vehicle load $d \\in D$ or not.\n",
    "The set of constraints looks similar to the flow constraints in the base route model:\n",
    "\\begin{align*}\n",
    "w_{0jd} & = 0 & \\forall j \\in C,~ d \\neq 0 \\\\\n",
    "\\sum_{i \\in L} w_{ijd} & = \\sum_{i \\in L} w_{ji,d+d_j} & \\forall j \\in C,~ d \\in D \\\\\n",
    "x_{ij} & = \\sum_{d \\in D} w_{ijd} & \\forall i,j \\in L,~ i \\neq j\n",
    "\\end{align*}\n",
    "As you can see, the number of variables and constraints strongly depends on the size of set $D$.\n",
    "By definition of the variables, there cannot be a vehicle load larger than $Q$, implicitely ensuring the vehicle capacity.\n",
    "Again, since the vehicle load is monotonically increasing there would be a constraint conflict in a sub-tour only consisting of customers.\n",
    "\n",
    "The benefit of this modeling approach is that the model structure is quite simple, there are only binary variables, equalities, and coefficients of 0 and 1. This can lead to better performance in some cases.\n",
    "\n",
    "\n",
    "Note that the modeling concepts discussed here can also be used for other constraints arising in vehicle routing, e.g., time windows at customers, time or distance constraints for routes, etc.\n",
    "\n",
    "In the following implementation, you can choose which load model you want to use, and whether you want to additionally add capacity cuts or not. This allows us to do some performance comparisons."
   ]
  },
  {
   "cell_type": "code",
   "execution_count": null,
   "metadata": {
    "slideshow": {
     "slide_type": "-"
    }
   },
   "outputs": [],
   "source": [
    "### MODEL CONFIGURATION\n",
    "capacityCuts = 0  # 0: off, 2: cuts for |S|=2, 3: cuts for |S|<=3\n",
    "loadModelType = 2  # 1: big-M, 2: flow, 3: multi-flows, 4: discretization"
   ]
  },
  {
   "cell_type": "markdown",
   "metadata": {},
   "source": [
    "## Load Model Implementation"
   ]
  },
  {
   "cell_type": "code",
   "execution_count": null,
   "metadata": {},
   "outputs": [],
   "source": [
    "def addRoundedCapacityCuts():\n",
    "    if capacityCuts >= 2:\n",
    "        model.addConstrs(\n",
    "            (\n",
    "                x[i, j] + x[j, i] <= 2 - numVehiclesNeededForCustomers([i, j])\n",
    "                for i in customers\n",
    "                for j in range(i + 1, numCustomers + 1)\n",
    "            ),\n",
    "            name=\"capcut2\",\n",
    "        )\n",
    "    if capacityCuts >= 3:\n",
    "        model.addConstrs(\n",
    "            (\n",
    "                x[i, j] + x[j, i] + x[i, k] + x[k, i] + x[j, k] + x[k, j]\n",
    "                <= 3 - numVehiclesNeededForCustomers([i, j, k])\n",
    "                for i in customers\n",
    "                for j in range(i + 1, numCustomers + 1)\n",
    "                for k in range(j + 1, numCustomers + 1)\n",
    "            ),\n",
    "            name=\"capcut3\",\n",
    "        )\n",
    "\n",
    "\n",
    "def addVehicleLoadConstraintsByBigM():\n",
    "\n",
    "    y = model.addVars(locations, lb=0, ub=vehicleCapacity, name=\"y\")\n",
    "    y[0].UB = 0  # empty load at depot\n",
    "\n",
    "    model.addConstrs(\n",
    "        (\n",
    "            y[i] + demands[j] <= y[j] + vehicleCapacity * (1 - x[i, j])\n",
    "            for i in locations\n",
    "            for j in customers\n",
    "            if i != j\n",
    "        ),\n",
    "        name=\"loadBigM1\",\n",
    "    )\n",
    "    model.addConstrs(\n",
    "        (\n",
    "            y[i] + demands[j]\n",
    "            >= y[j] - (vehicleCapacity - demands[i] - demands[j]) * (1 - x[i, j])\n",
    "            for i in locations\n",
    "            for j in customers\n",
    "            if i != j\n",
    "        ),\n",
    "        name=\"loadBigM2\",\n",
    "    )\n",
    "\n",
    "\n",
    "def addVehicleLoadConstraintsByFlows():\n",
    "\n",
    "    z = model.addVars(connections, lb=0, ub=vehicleCapacity, name=\"z\")\n",
    "\n",
    "    for i in customers:\n",
    "        z[0, i].UB = 0\n",
    "\n",
    "    model.addConstrs(\n",
    "        (z.sum(\"*\", j) + demands[j] == z.sum(j, \"*\") for j in customers),\n",
    "        name=\"flowConservation\",\n",
    "    )\n",
    "    model.addConstrs(\n",
    "        (\n",
    "            z[i, j] >= demands[i] * x[i, j]\n",
    "            for i in customers\n",
    "            for j in locations\n",
    "            if i != j\n",
    "        ),\n",
    "        name=\"loadLowerBound\",\n",
    "    )\n",
    "    model.addConstrs(\n",
    "        (\n",
    "            z[i, j] <= (vehicleCapacity - demands[j]) * x[i, j]\n",
    "            for i in customers\n",
    "            for j in locations\n",
    "            if i != j\n",
    "        ),\n",
    "        name=\"loadUpperBound\",\n",
    "    )\n",
    "\n",
    "\n",
    "def addVehicleLoadConstraintsByMultiCommodityFlows():\n",
    "\n",
    "    f = model.addVars(connections, customers, lb=0, ub=1, name=\"f\")\n",
    "\n",
    "    for c in customers:\n",
    "        for (i, j) in connections:\n",
    "            if i == 0 or c == j:\n",
    "                f[i, j, c].UB = 0\n",
    "\n",
    "    model.addConstrs((f.sum(j, \"*\", j) == 1 for j in customers), name=\"pickup\")\n",
    "    model.addConstrs((f.sum(\"*\", 0, j) == 1 for j in customers), name=\"return\")\n",
    "    model.addConstrs(\n",
    "        (\n",
    "            f.sum(\"*\", j, c) == f.sum(j, \"*\", c)\n",
    "            for j in customers\n",
    "            for c in customers\n",
    "            if c != j\n",
    "        ),\n",
    "        name=\"flowConservation\",\n",
    "    )\n",
    "    model.addConstrs(\n",
    "        (f[i, j, c] <= x[i, j] for (i, j) in connections for c in customers),\n",
    "        name=\"links\",\n",
    "    )\n",
    "    model.addConstrs(\n",
    "        (\n",
    "            gp.quicksum(demands[c] * f[i, j, c] for c in customers)\n",
    "            <= (vehicleCapacity - demands[j]) * x[i, j]\n",
    "            for (i, j) in connections\n",
    "        ),\n",
    "        name=\"capacity\",\n",
    "    )\n",
    "\n",
    "\n",
    "def addVehicleLoadConstraintsByDiscretization():\n",
    "\n",
    "    loadValues = [*range(vehicleCapacity + 1)]\n",
    "    w = model.addVars(connections, loadValues, vtype=GRB.BINARY, name=\"w\")\n",
    "\n",
    "    for j in customers:\n",
    "        for d in loadValues:\n",
    "            if d != 0:\n",
    "                w[0, j, d].UB = 0\n",
    "\n",
    "    model.addConstrs(\n",
    "        (\n",
    "            w.sum(\"*\", j, d) == w.sum(j, \"*\", d + demands[j])\n",
    "            for j in customers\n",
    "            for d in loadValues\n",
    "        ),\n",
    "        name=\"flowConservation\",\n",
    "    )\n",
    "    model.addConstrs(\n",
    "        (x[i, j] == w.sum(i, j, \"*\") for (i, j) in connections), name=\"linking\"\n",
    "    )\n",
    "\n",
    "\n",
    "if capacityCuts > 0:\n",
    "    addRoundedCapacityCuts()\n",
    "\n",
    "if loadModelType == 1:\n",
    "    addVehicleLoadConstraintsByBigM()\n",
    "elif loadModelType == 2:\n",
    "    addVehicleLoadConstraintsByFlows()\n",
    "elif loadModelType == 3:\n",
    "    addVehicleLoadConstraintsByMultiCommodityFlows()\n",
    "elif loadModelType == 4:\n",
    "    addVehicleLoadConstraintsByDiscretization()"
   ]
  },
  {
   "cell_type": "markdown",
   "metadata": {},
   "source": [
    "## Solve Model"
   ]
  },
  {
   "cell_type": "code",
   "execution_count": null,
   "metadata": {
    "slideshow": {
     "slide_type": "-"
    }
   },
   "outputs": [],
   "source": [
    "model.params.Threads = 4\n",
    "model.optimize()"
   ]
  },
  {
   "cell_type": "markdown",
   "metadata": {
    "slideshow": {
     "slide_type": "-"
    }
   },
   "source": [
    "## Solution Retrieval\n",
    "\n",
    "What we basically want to know is the ordered sequence of customers each vehicle should visit.\n",
    "We did not use variables that assign connections or customers to vehicles (when using the basic route model without vehicle-index), so the question is whether it is possible to retrieve a unique set of routes only based on the set of used connections defined by the $x$-variables.\n",
    "This is indeed possible since each customer is visited exactly once. We iteratively pick one of the connections leaving the depot, and follow the path until we get back to the depot. Note that there is exactly one incoming and one outgoing connection at each customer, so it is clear where a route continues.\n",
    "\n",
    "Additional to reconstructing the routes, we check whether the vehicle load does not exceed the capacity on each route, and each customer is visited from the depot. This is not necessary as long as the model is correct but it helps significantly in the debugging phase."
   ]
  },
  {
   "cell_type": "code",
   "execution_count": null,
   "metadata": {
    "slideshow": {
     "slide_type": "-"
    }
   },
   "outputs": [],
   "source": [
    "if model.SolCount >= 1:\n",
    "\n",
    "    usedConnections = [(i, j) for (i, j) in x.keys() if x[i, j].X > 0.5]\n",
    "\n",
    "    # create a dict for the next customer based on the current one \n",
    "    # (note that the depot in general has multiple outgoing connections)\n",
    "    nextCustomer = {}\n",
    "    for (i, j) in usedConnections:\n",
    "        if i == 0:\n",
    "            if 0 not in nextCustomer.keys():\n",
    "                nextCustomer[0] = []\n",
    "            nextCustomer[0].append(j)\n",
    "        else:\n",
    "            nextCustomer[i] = j\n",
    "\n",
    "    print(f\"Solution contains {len(nextCustomer[0])} routes:\")\n",
    "    routeNumber = 0\n",
    "    visitedCustomers = [False] * (numCustomers + 1)\n",
    "    for firstCustomer in nextCustomer[0]:\n",
    "        print(f\"Route {routeNumber}: 0 -> \", end=\"\")\n",
    "        vehicleLoad = 0\n",
    "        currentCustomer = firstCustomer\n",
    "        while currentCustomer != 0:\n",
    "            print(f\"{currentCustomer} -> \", end=\"\")\n",
    "            visitedCustomers[currentCustomer] = True\n",
    "            vehicleLoad += demands[currentCustomer]\n",
    "            currentCustomer = nextCustomer[currentCustomer]\n",
    "        print(f\"0, load = {vehicleLoad} of {vehicleCapacity}\")\n",
    "        if vehicleLoad > vehicleCapacity:\n",
    "            print(\"Vehicle capacity is exceeded!\")\n",
    "        routeNumber += 1\n",
    "\n",
    "    print(\"Unvisited customers: \", end=\"\")\n",
    "    for c in customers:\n",
    "        if visitedCustomers[c] == False:\n",
    "            print(f\"{c}, \", end=\"\")"
   ]
  },
  {
   "cell_type": "code",
   "execution_count": null,
   "metadata": {},
   "outputs": [],
   "source": [
    "if model.Status == GRB.INFEASIBLE:\n",
    "    model.computeIIS()\n",
    "    model.write(\"iis.ilp\")"
   ]
  },
  {
   "cell_type": "code",
   "execution_count": null,
   "metadata": {},
   "outputs": [],
   "source": [
    "# free resources\n",
    "model.dispose()\n",
    "gp.disposeDefaultEnv()"
   ]
  }
 ],
 "metadata": {
  "celltoolbar": "Slideshow",
  "kernelspec": {
   "display_name": "Python 3 (ipykernel)",
   "language": "python",
   "name": "python3"
  },
  "language_info": {
   "codemirror_mode": {
    "name": "ipython",
    "version": 3
   },
   "file_extension": ".py",
   "mimetype": "text/x-python",
   "name": "python",
   "nbconvert_exporter": "python",
   "pygments_lexer": "ipython3",
   "version": "3.10.12"
  },
  "vscode": {
   "interpreter": {
    "hash": "d2bb2f0f25f8eb25871f53ccd65c3da97ae07c338e4b69fda75e4697888288d1"
   }
  }
 },
 "nbformat": 4,
 "nbformat_minor": 4
}
